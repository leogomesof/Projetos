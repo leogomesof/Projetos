{
  "nbformat": 4,
  "nbformat_minor": 0,
  "metadata": {
    "colab": {
      "provenance": [],
      "collapsed_sections": [],
      "authorship_tag": "ABX9TyMm7BYgUsFhBo9/yrcoIGrf",
      "include_colab_link": true
    },
    "kernelspec": {
      "name": "python3",
      "display_name": "Python 3"
    },
    "language_info": {
      "name": "python"
    }
  },
  "cells": [
    {
      "cell_type": "markdown",
      "metadata": {
        "id": "view-in-github",
        "colab_type": "text"
      },
      "source": [
        "<a href=\"https://colab.research.google.com/github/leogomesof/Projetos/blob/main/Elei%C3%A7%C3%B5es.ipynb\" target=\"_parent\"><img src=\"https://colab.research.google.com/assets/colab-badge.svg\" alt=\"Open In Colab\"/></a>"
      ]
    },
    {
      "cell_type": "markdown",
      "source": [
        "[texto do link](https://)"
      ],
      "metadata": {
        "id": "0WKiT7brWWhe"
      }
    },
    {
      "cell_type": "markdown",
      "source": [],
      "metadata": {
        "id": "XH-DWVGfWYVs"
      }
    },
    {
      "cell_type": "markdown",
      "source": [
        "\n",
        "\n"
      ],
      "metadata": {
        "id": "mP5DftN9WRDD"
      }
    },
    {
      "cell_type": "code",
      "source": [
        "a=0\n",
        "branco=0\n",
        "b=0\n",
        "samuca=1\n",
        "c=0\n",
        "neto=2\n",
        "d=0\n",
        "baltazar=3\n",
        "e=0\n",
        "nulo=4\n",
        "f=0\n",
        "eleitor=0\n",
        "\n",
        "def zero():\n",
        " print(\"\\nO número do candidato vencedor: Nenhum\")\n",
        " print(\"O número de votos em branco: 0 votos\")\n",
        " print(\"O número de votos nulos: 0 votos\")\n",
        " print(\"O número de eleitores: 0 eleitores\")\n",
        "\n",
        "def resultados():\n",
        " print(\"O Número de votos em branco: {}\".format(a))\n",
        " print(\"O Número de votos em nulo: {}\".format(e))\n",
        " print(\"O Número de eleitores: {}\".format(eleitor))\n",
        "\n",
        "print(\"*** Algoritmo para prefeitura municipal de volta redonda ***\\n\\nDigite 0 para: Branco\\nDigite 1 para: Samuca\")\n",
        "print(\"Digite 2 para:Neto\\nDigite 3 para: Baltazar\\nValores maior do que 4 serão anulados\")\n",
        "print(\"Para visualizar o resultado digite -1 à qualquer momento\\n\")\n",
        "while f==0:\n",
        " opcao=int(input(\"Escolha uma opção: \"))\n",
        " if opcao==0:\n",
        "  a=a+1\n",
        "  eleitor=eleitor+1\n",
        " if opcao==1:\n",
        "  b=b+1\n",
        "  eleitor=eleitor+1\n",
        " if opcao==2:\n",
        "  c=c+1\n",
        "  eleitor=eleitor+1\n",
        " if opcao==3:\n",
        "  d=d+1\n",
        "  eleitor=eleitor+1\n",
        " if opcao>=4:\n",
        "  e=e+1\n",
        "  eleitor=eleitor+1\n",
        " if opcao==-1:\n",
        "  if a>b and a>c and a>d and a>e:\n",
        "   print(\"\\nO Número do candidato vencedor: {}\".format(branco))\n",
        "   resultados()\n",
        "  elif b>a and b>c and b>d and b>e:\n",
        "   print(\"\\nO Número do candidato vencedor: {}\".format(samuca))\n",
        "   resultados()\n",
        "  elif c>a and c>b and c>d and c>e:\n",
        "   print(\"\\nO Número do candidato vencedor: {}\".format(neto))\n",
        "   resultados()\n",
        "  elif d>a and d>b and d>c and d>e:\n",
        "   print(\"\\nO Número do candidato vencedor: {}\".format(baltazar))\n",
        "   resultados()\n",
        "  elif e>a and e>b and e>c and e>d:\n",
        "   print(\"\\nO Número do candidato vencedor: {}\".format(nulo))\n",
        "   resultados()\n",
        "  else:\n",
        "   zero()\n",
        "  break"
      ],
      "metadata": {
        "colab": {
          "base_uri": "https://localhost:8080/",
          "height": 130
        },
        "id": "yfXzEzThettR",
        "outputId": "cbe70dc1-ffbf-4d1b-dc98-21355eab0aed"
      },
      "execution_count": 100,
      "outputs": [
        {
          "output_type": "error",
          "ename": "SyntaxError",
          "evalue": "ignored",
          "traceback": [
            "\u001b[0;36m  File \u001b[0;32m\"<ipython-input-100-07e46ca45436>\"\u001b[0;36m, line \u001b[0;32m18\u001b[0m\n\u001b[0;31m    global samuca\u001b[0m\n\u001b[0m            ^\u001b[0m\n\u001b[0;31mSyntaxError\u001b[0m\u001b[0;31m:\u001b[0m name 'nulo' is assigned to before global declaration\n"
          ]
        }
      ]
    },
    {
      "cell_type": "code",
      "source": [],
      "metadata": {
        "id": "sJkm-9FGhwEc"
      },
      "execution_count": null,
      "outputs": []
    }
  ]
}